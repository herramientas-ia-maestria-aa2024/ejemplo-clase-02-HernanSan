{
 "cells": [
  {
   "cell_type": "code",
   "execution_count": 36,
   "id": "b4032a59-b814-4b14-8b18-d0d0b8ff9b6c",
   "metadata": {
    "ExecuteTime": {
     "end_time": "2024-04-17T01:38:08.648273Z",
     "start_time": "2024-04-17T01:38:08.645531Z"
    }
   },
   "outputs": [],
   "source": [
    "# Pasos previos"
   ]
  },
  {
   "cell_type": "code",
   "execution_count": 37,
   "id": "c865a954-45d1-48aa-af3e-437de9a64857",
   "metadata": {
    "ExecuteTime": {
     "end_time": "2024-04-17T01:38:12.541940Z",
     "start_time": "2024-04-17T01:38:09.692354Z"
    }
   },
   "outputs": [
    {
     "name": "stdout",
     "output_type": "stream",
     "text": [
      "Requirement already satisfied: spacy in /home/omega/envIaAplicada/lib/python3.11/site-packages (3.7.4)\r\n",
      "Requirement already satisfied: spacy-legacy<3.1.0,>=3.0.11 in /home/omega/envIaAplicada/lib/python3.11/site-packages (from spacy) (3.0.12)\r\n",
      "Requirement already satisfied: spacy-loggers<2.0.0,>=1.0.0 in /home/omega/envIaAplicada/lib/python3.11/site-packages (from spacy) (1.0.5)\r\n",
      "Requirement already satisfied: murmurhash<1.1.0,>=0.28.0 in /home/omega/envIaAplicada/lib/python3.11/site-packages (from spacy) (1.0.10)\r\n",
      "Requirement already satisfied: cymem<2.1.0,>=2.0.2 in /home/omega/envIaAplicada/lib/python3.11/site-packages (from spacy) (2.0.8)\r\n",
      "Requirement already satisfied: preshed<3.1.0,>=3.0.2 in /home/omega/envIaAplicada/lib/python3.11/site-packages (from spacy) (3.0.9)\r\n",
      "Requirement already satisfied: thinc<8.3.0,>=8.2.2 in /home/omega/envIaAplicada/lib/python3.11/site-packages (from spacy) (8.2.3)\r\n",
      "Requirement already satisfied: wasabi<1.2.0,>=0.9.1 in /home/omega/envIaAplicada/lib/python3.11/site-packages (from spacy) (1.1.2)\r\n",
      "Requirement already satisfied: srsly<3.0.0,>=2.4.3 in /home/omega/envIaAplicada/lib/python3.11/site-packages (from spacy) (2.4.8)\r\n",
      "Requirement already satisfied: catalogue<2.1.0,>=2.0.6 in /home/omega/envIaAplicada/lib/python3.11/site-packages (from spacy) (2.0.10)\r\n",
      "Requirement already satisfied: weasel<0.4.0,>=0.1.0 in /home/omega/envIaAplicada/lib/python3.11/site-packages (from spacy) (0.3.4)\r\n",
      "Requirement already satisfied: typer<0.10.0,>=0.3.0 in /home/omega/envIaAplicada/lib/python3.11/site-packages (from spacy) (0.9.4)\r\n",
      "Requirement already satisfied: smart-open<7.0.0,>=5.2.1 in /home/omega/envIaAplicada/lib/python3.11/site-packages (from spacy) (6.4.0)\r\n",
      "Requirement already satisfied: tqdm<5.0.0,>=4.38.0 in /home/omega/envIaAplicada/lib/python3.11/site-packages (from spacy) (4.66.2)\r\n",
      "Requirement already satisfied: requests<3.0.0,>=2.13.0 in /home/omega/envIaAplicada/lib/python3.11/site-packages (from spacy) (2.31.0)\r\n",
      "Requirement already satisfied: pydantic!=1.8,!=1.8.1,<3.0.0,>=1.7.4 in /home/omega/envIaAplicada/lib/python3.11/site-packages (from spacy) (2.7.0)\r\n",
      "Requirement already satisfied: jinja2 in /home/omega/envIaAplicada/lib/python3.11/site-packages (from spacy) (3.1.3)\r\n",
      "Requirement already satisfied: setuptools in /home/omega/envIaAplicada/lib/python3.11/site-packages (from spacy) (66.1.1)\r\n",
      "Requirement already satisfied: packaging>=20.0 in /home/omega/envIaAplicada/lib/python3.11/site-packages (from spacy) (24.0)\r\n",
      "Requirement already satisfied: langcodes<4.0.0,>=3.2.0 in /home/omega/envIaAplicada/lib/python3.11/site-packages (from spacy) (3.3.0)\r\n",
      "Requirement already satisfied: numpy>=1.19.0 in /home/omega/envIaAplicada/lib/python3.11/site-packages (from spacy) (1.26.4)\r\n",
      "Requirement already satisfied: annotated-types>=0.4.0 in /home/omega/envIaAplicada/lib/python3.11/site-packages (from pydantic!=1.8,!=1.8.1,<3.0.0,>=1.7.4->spacy) (0.6.0)\r\n",
      "Requirement already satisfied: pydantic-core==2.18.1 in /home/omega/envIaAplicada/lib/python3.11/site-packages (from pydantic!=1.8,!=1.8.1,<3.0.0,>=1.7.4->spacy) (2.18.1)\r\n",
      "Requirement already satisfied: typing-extensions>=4.6.1 in /home/omega/envIaAplicada/lib/python3.11/site-packages (from pydantic!=1.8,!=1.8.1,<3.0.0,>=1.7.4->spacy) (4.11.0)\r\n",
      "Requirement already satisfied: charset-normalizer<4,>=2 in /home/omega/envIaAplicada/lib/python3.11/site-packages (from requests<3.0.0,>=2.13.0->spacy) (3.3.2)\r\n",
      "Requirement already satisfied: idna<4,>=2.5 in /home/omega/envIaAplicada/lib/python3.11/site-packages (from requests<3.0.0,>=2.13.0->spacy) (3.7)\r\n",
      "Requirement already satisfied: urllib3<3,>=1.21.1 in /home/omega/envIaAplicada/lib/python3.11/site-packages (from requests<3.0.0,>=2.13.0->spacy) (2.2.1)\r\n",
      "Requirement already satisfied: certifi>=2017.4.17 in /home/omega/envIaAplicada/lib/python3.11/site-packages (from requests<3.0.0,>=2.13.0->spacy) (2024.2.2)\r\n",
      "Requirement already satisfied: blis<0.8.0,>=0.7.8 in /home/omega/envIaAplicada/lib/python3.11/site-packages (from thinc<8.3.0,>=8.2.2->spacy) (0.7.11)\r\n",
      "Requirement already satisfied: confection<1.0.0,>=0.0.1 in /home/omega/envIaAplicada/lib/python3.11/site-packages (from thinc<8.3.0,>=8.2.2->spacy) (0.1.4)\r\n",
      "Requirement already satisfied: click<9.0.0,>=7.1.1 in /home/omega/envIaAplicada/lib/python3.11/site-packages (from typer<0.10.0,>=0.3.0->spacy) (8.1.7)\r\n",
      "Requirement already satisfied: cloudpathlib<0.17.0,>=0.7.0 in /home/omega/envIaAplicada/lib/python3.11/site-packages (from weasel<0.4.0,>=0.1.0->spacy) (0.16.0)\r\n",
      "Requirement already satisfied: MarkupSafe>=2.0 in /home/omega/envIaAplicada/lib/python3.11/site-packages (from jinja2->spacy) (2.1.5)\r\n"
     ]
    }
   ],
   "source": [
    "# instalar spaCy\n",
    "!pip install spacy"
   ]
  },
  {
   "cell_type": "code",
   "execution_count": 38,
   "id": "3724f07c-d641-4ab2-a8d8-d68f6cf3b9c0",
   "metadata": {
    "ExecuteTime": {
     "end_time": "2024-04-17T01:38:25.487817Z",
     "start_time": "2024-04-17T01:38:17.891310Z"
    }
   },
   "outputs": [
    {
     "name": "stdout",
     "output_type": "stream",
     "text": [
      "Collecting es-core-news-sm==3.7.0\r\n",
      "  Downloading https://github.com/explosion/spacy-models/releases/download/es_core_news_sm-3.7.0/es_core_news_sm-3.7.0-py3-none-any.whl (12.9 MB)\r\n",
      "\u001b[2K     \u001b[38;2;114;156;31m━━━━━━━━━━━━━━━━━━━━━━━━━━━━━━━━━━━━━━━━\u001b[0m \u001b[32m12.9/12.9 MB\u001b[0m \u001b[31m9.4 MB/s\u001b[0m eta \u001b[36m0:00:00\u001b[0m0m eta \u001b[36m0:00:01\u001b[0m:01\u001b[0m01\u001b[0m\r\n",
      "\u001b[?25hRequirement already satisfied: spacy<3.8.0,>=3.7.0 in /home/omega/envIaAplicada/lib/python3.11/site-packages (from es-core-news-sm==3.7.0) (3.7.4)\r\n",
      "Requirement already satisfied: spacy-legacy<3.1.0,>=3.0.11 in /home/omega/envIaAplicada/lib/python3.11/site-packages (from spacy<3.8.0,>=3.7.0->es-core-news-sm==3.7.0) (3.0.12)\r\n",
      "Requirement already satisfied: spacy-loggers<2.0.0,>=1.0.0 in /home/omega/envIaAplicada/lib/python3.11/site-packages (from spacy<3.8.0,>=3.7.0->es-core-news-sm==3.7.0) (1.0.5)\r\n",
      "Requirement already satisfied: murmurhash<1.1.0,>=0.28.0 in /home/omega/envIaAplicada/lib/python3.11/site-packages (from spacy<3.8.0,>=3.7.0->es-core-news-sm==3.7.0) (1.0.10)\r\n",
      "Requirement already satisfied: cymem<2.1.0,>=2.0.2 in /home/omega/envIaAplicada/lib/python3.11/site-packages (from spacy<3.8.0,>=3.7.0->es-core-news-sm==3.7.0) (2.0.8)\r\n",
      "Requirement already satisfied: preshed<3.1.0,>=3.0.2 in /home/omega/envIaAplicada/lib/python3.11/site-packages (from spacy<3.8.0,>=3.7.0->es-core-news-sm==3.7.0) (3.0.9)\r\n",
      "Requirement already satisfied: thinc<8.3.0,>=8.2.2 in /home/omega/envIaAplicada/lib/python3.11/site-packages (from spacy<3.8.0,>=3.7.0->es-core-news-sm==3.7.0) (8.2.3)\r\n",
      "Requirement already satisfied: wasabi<1.2.0,>=0.9.1 in /home/omega/envIaAplicada/lib/python3.11/site-packages (from spacy<3.8.0,>=3.7.0->es-core-news-sm==3.7.0) (1.1.2)\r\n",
      "Requirement already satisfied: srsly<3.0.0,>=2.4.3 in /home/omega/envIaAplicada/lib/python3.11/site-packages (from spacy<3.8.0,>=3.7.0->es-core-news-sm==3.7.0) (2.4.8)\r\n",
      "Requirement already satisfied: catalogue<2.1.0,>=2.0.6 in /home/omega/envIaAplicada/lib/python3.11/site-packages (from spacy<3.8.0,>=3.7.0->es-core-news-sm==3.7.0) (2.0.10)\r\n",
      "Requirement already satisfied: weasel<0.4.0,>=0.1.0 in /home/omega/envIaAplicada/lib/python3.11/site-packages (from spacy<3.8.0,>=3.7.0->es-core-news-sm==3.7.0) (0.3.4)\r\n",
      "Requirement already satisfied: typer<0.10.0,>=0.3.0 in /home/omega/envIaAplicada/lib/python3.11/site-packages (from spacy<3.8.0,>=3.7.0->es-core-news-sm==3.7.0) (0.9.4)\r\n",
      "Requirement already satisfied: smart-open<7.0.0,>=5.2.1 in /home/omega/envIaAplicada/lib/python3.11/site-packages (from spacy<3.8.0,>=3.7.0->es-core-news-sm==3.7.0) (6.4.0)\r\n",
      "Requirement already satisfied: tqdm<5.0.0,>=4.38.0 in /home/omega/envIaAplicada/lib/python3.11/site-packages (from spacy<3.8.0,>=3.7.0->es-core-news-sm==3.7.0) (4.66.2)\r\n",
      "Requirement already satisfied: requests<3.0.0,>=2.13.0 in /home/omega/envIaAplicada/lib/python3.11/site-packages (from spacy<3.8.0,>=3.7.0->es-core-news-sm==3.7.0) (2.31.0)\r\n",
      "Requirement already satisfied: pydantic!=1.8,!=1.8.1,<3.0.0,>=1.7.4 in /home/omega/envIaAplicada/lib/python3.11/site-packages (from spacy<3.8.0,>=3.7.0->es-core-news-sm==3.7.0) (2.7.0)\r\n",
      "Requirement already satisfied: jinja2 in /home/omega/envIaAplicada/lib/python3.11/site-packages (from spacy<3.8.0,>=3.7.0->es-core-news-sm==3.7.0) (3.1.3)\r\n",
      "Requirement already satisfied: setuptools in /home/omega/envIaAplicada/lib/python3.11/site-packages (from spacy<3.8.0,>=3.7.0->es-core-news-sm==3.7.0) (66.1.1)\r\n",
      "Requirement already satisfied: packaging>=20.0 in /home/omega/envIaAplicada/lib/python3.11/site-packages (from spacy<3.8.0,>=3.7.0->es-core-news-sm==3.7.0) (24.0)\r\n",
      "Requirement already satisfied: langcodes<4.0.0,>=3.2.0 in /home/omega/envIaAplicada/lib/python3.11/site-packages (from spacy<3.8.0,>=3.7.0->es-core-news-sm==3.7.0) (3.3.0)\r\n",
      "Requirement already satisfied: numpy>=1.19.0 in /home/omega/envIaAplicada/lib/python3.11/site-packages (from spacy<3.8.0,>=3.7.0->es-core-news-sm==3.7.0) (1.26.4)\r\n",
      "Requirement already satisfied: annotated-types>=0.4.0 in /home/omega/envIaAplicada/lib/python3.11/site-packages (from pydantic!=1.8,!=1.8.1,<3.0.0,>=1.7.4->spacy<3.8.0,>=3.7.0->es-core-news-sm==3.7.0) (0.6.0)\r\n",
      "Requirement already satisfied: pydantic-core==2.18.1 in /home/omega/envIaAplicada/lib/python3.11/site-packages (from pydantic!=1.8,!=1.8.1,<3.0.0,>=1.7.4->spacy<3.8.0,>=3.7.0->es-core-news-sm==3.7.0) (2.18.1)\r\n",
      "Requirement already satisfied: typing-extensions>=4.6.1 in /home/omega/envIaAplicada/lib/python3.11/site-packages (from pydantic!=1.8,!=1.8.1,<3.0.0,>=1.7.4->spacy<3.8.0,>=3.7.0->es-core-news-sm==3.7.0) (4.11.0)\r\n",
      "Requirement already satisfied: charset-normalizer<4,>=2 in /home/omega/envIaAplicada/lib/python3.11/site-packages (from requests<3.0.0,>=2.13.0->spacy<3.8.0,>=3.7.0->es-core-news-sm==3.7.0) (3.3.2)\r\n",
      "Requirement already satisfied: idna<4,>=2.5 in /home/omega/envIaAplicada/lib/python3.11/site-packages (from requests<3.0.0,>=2.13.0->spacy<3.8.0,>=3.7.0->es-core-news-sm==3.7.0) (3.7)\r\n",
      "Requirement already satisfied: urllib3<3,>=1.21.1 in /home/omega/envIaAplicada/lib/python3.11/site-packages (from requests<3.0.0,>=2.13.0->spacy<3.8.0,>=3.7.0->es-core-news-sm==3.7.0) (2.2.1)\r\n",
      "Requirement already satisfied: certifi>=2017.4.17 in /home/omega/envIaAplicada/lib/python3.11/site-packages (from requests<3.0.0,>=2.13.0->spacy<3.8.0,>=3.7.0->es-core-news-sm==3.7.0) (2024.2.2)\r\n",
      "Requirement already satisfied: blis<0.8.0,>=0.7.8 in /home/omega/envIaAplicada/lib/python3.11/site-packages (from thinc<8.3.0,>=8.2.2->spacy<3.8.0,>=3.7.0->es-core-news-sm==3.7.0) (0.7.11)\r\n",
      "Requirement already satisfied: confection<1.0.0,>=0.0.1 in /home/omega/envIaAplicada/lib/python3.11/site-packages (from thinc<8.3.0,>=8.2.2->spacy<3.8.0,>=3.7.0->es-core-news-sm==3.7.0) (0.1.4)\r\n",
      "Requirement already satisfied: click<9.0.0,>=7.1.1 in /home/omega/envIaAplicada/lib/python3.11/site-packages (from typer<0.10.0,>=0.3.0->spacy<3.8.0,>=3.7.0->es-core-news-sm==3.7.0) (8.1.7)\r\n",
      "Requirement already satisfied: cloudpathlib<0.17.0,>=0.7.0 in /home/omega/envIaAplicada/lib/python3.11/site-packages (from weasel<0.4.0,>=0.1.0->spacy<3.8.0,>=3.7.0->es-core-news-sm==3.7.0) (0.16.0)\r\n",
      "Requirement already satisfied: MarkupSafe>=2.0 in /home/omega/envIaAplicada/lib/python3.11/site-packages (from jinja2->spacy<3.8.0,>=3.7.0->es-core-news-sm==3.7.0) (2.1.5)\r\n",
      "Installing collected packages: es-core-news-sm\r\n",
      "Successfully installed es-core-news-sm-3.7.0\r\n",
      "\u001b[38;5;2m✔ Download and installation successful\u001b[0m\r\n",
      "You can now load the package via spacy.load('es_core_news_sm')\r\n"
     ]
    }
   ],
   "source": [
    "# instalar los modelos propios de la librería, para el ejemplo, uno en español\n",
    "!python3 -m spacy download es_core_news_sm"
   ]
  },
  {
   "cell_type": "code",
   "execution_count": 1,
   "id": "bbc67df1-c361-4dca-99e9-b8e4bc1185ce",
   "metadata": {
    "ExecuteTime": {
     "end_time": "2024-04-18T00:04:33.207534Z",
     "start_time": "2024-04-18T00:04:32.182345Z"
    }
   },
   "outputs": [],
   "source": [
    "import spacy\n"
   ]
  },
  {
   "cell_type": "code",
   "execution_count": 40,
   "id": "bac5f3d8-09ae-4fe3-a4dc-587f4cf8b78f",
   "metadata": {
    "ExecuteTime": {
     "end_time": "2024-04-17T01:38:26.596675Z",
     "start_time": "2024-04-17T01:38:26.056912Z"
    }
   },
   "outputs": [],
   "source": [
    "# usar un modelo propio de spaCy en español\n",
    "nlp = spacy.load(\"es_core_news_sm\")\n"
   ]
  },
  {
   "cell_type": "code",
   "execution_count": 41,
   "id": "1fde5351-8dbd-4b8c-9c04-283bcbfcb6cf",
   "metadata": {
    "ExecuteTime": {
     "end_time": "2024-04-17T01:38:26.600917Z",
     "start_time": "2024-04-17T01:38:26.598261Z"
    }
   },
   "outputs": [],
   "source": [
    "texto = \"Mi maestría la estudio en la Universidad Técnica Particular de Loja. Loja es una provincia del Ecuador.\"\n"
   ]
  },
  {
   "cell_type": "code",
   "execution_count": 42,
   "id": "8f0c5f55-3bbc-408c-8c5e-edf796db5c3e",
   "metadata": {
    "ExecuteTime": {
     "end_time": "2024-04-17T01:38:26.624093Z",
     "start_time": "2024-04-17T01:38:26.602192Z"
    }
   },
   "outputs": [],
   "source": [
    "documento = nlp(texto)"
   ]
  },
  {
   "cell_type": "code",
   "execution_count": 43,
   "id": "b5eef726-b3be-43b6-886f-e5d37ba4a1db",
   "metadata": {
    "ExecuteTime": {
     "end_time": "2024-04-17T01:38:27.106167Z",
     "start_time": "2024-04-17T01:38:27.101532Z"
    }
   },
   "outputs": [
    {
     "name": "stdout",
     "output_type": "stream",
     "text": [
      "Mi maestría la estudio en la Universidad Técnica Particular de Loja.\n",
      "Loja es una provincia del Ecuador.\n"
     ]
    }
   ],
   "source": [
    "# proceso para determinar las oraciones\n",
    "for l in documento.sents:\n",
    "    print(l)"
   ]
  },
  {
   "cell_type": "code",
   "execution_count": 44,
   "id": "c8f7fdcf-cb42-4ef9-9363-ab8f42f3d2ad",
   "metadata": {
    "ExecuteTime": {
     "end_time": "2024-04-17T01:38:28.140840Z",
     "start_time": "2024-04-17T01:38:28.134741Z"
    }
   },
   "outputs": [
    {
     "name": "stdout",
     "output_type": "stream",
     "text": [
      "Universidad Técnica Particular de ORG\n",
      "Loja PER\n",
      "Loja PER\n",
      "Ecuador LOC\n"
     ]
    }
   ],
   "source": [
    "# proceso para obtener las entidades de un texto\n",
    "for l in documento.ents:\n",
    "    print(l.text, l.label_)"
   ]
  },
  {
   "cell_type": "raw",
   "id": "ea9db265-3313-447b-a185-104ffde67a52",
   "metadata": {},
   "source": []
  }
 ],
 "metadata": {
  "kernelspec": {
   "display_name": "Python 3 (ipykernel)",
   "language": "python",
   "name": "python3"
  },
  "language_info": {
   "codemirror_mode": {
    "name": "ipython",
    "version": 3
   },
   "file_extension": ".py",
   "mimetype": "text/x-python",
   "name": "python",
   "nbconvert_exporter": "python",
   "pygments_lexer": "ipython3",
   "version": "3.11.4"
  }
 },
 "nbformat": 4,
 "nbformat_minor": 5
}
