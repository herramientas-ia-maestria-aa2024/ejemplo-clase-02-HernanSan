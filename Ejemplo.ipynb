{
 "cells": [
  {
   "cell_type": "markdown",
   "id": "3d909ea6-9d64-4bca-95ec-12d778453c51",
   "metadata": {},
   "source": [
    "## Ejercicio semana 2\n",
    "- Utilice spacy para dividir el discurso del archivo **discurso.txt** en oraciones.\n",
    "- Presentar las oraciones.\n",
    "- Presentar el número de elementos que tiene cada oración."
   ]
  },
  {
   "cell_type": "code",
   "execution_count": 20,
   "id": "bbc67df1-c361-4dca-99e9-b8e4bc1185ce",
   "metadata": {
    "ExecuteTime": {
     "end_time": "2024-04-18T00:04:33.207534Z",
     "start_time": "2024-04-18T00:04:32.182345Z"
    }
   },
   "outputs": [],
   "source": [
    "import spacy"
   ]
  },
  {
   "cell_type": "code",
   "execution_count": 21,
   "id": "bac5f3d8-09ae-4fe3-a4dc-587f4cf8b78f",
   "metadata": {
    "ExecuteTime": {
     "end_time": "2024-04-17T01:38:26.596675Z",
     "start_time": "2024-04-17T01:38:26.056912Z"
    }
   },
   "outputs": [],
   "source": [
    "# usar un modelo propio de spaCy en español\n",
    "nlp = spacy.load(\"es_core_news_sm\")\n"
   ]
  },
  {
   "cell_type": "code",
   "execution_count": 29,
   "id": "579275f0-acdd-4bd2-9dd8-cfec99964c2c",
   "metadata": {},
   "outputs": [
    {
     "data": {
      "text/plain": [
       "Como ya no estaba matriculado y no tenía clases obligatorias, decidí atender al curso de caligrafía para aprender cómo se hacía. Aprendí cosas sobre el serif y tipografías sans serif, sobre los espacios variables entre letras, sobre qué hace realmente grande a una gran tipografía. Era sutilmente bello, histórica y artísticamente, de una forma que la ciencia no puede capturar, y lo encontré fascinante. Nada de esto tenía ni la más mínima esperanza de aplicación práctica en mi vida. Pero diez años más tarde, cuando estábamos diseñando el primer ordenador Macintosh, todo eso volvió a mí. Y diseñamos el Mac con eso en su esencia. Fue el primer ordenador con tipografías bellas. Si nunca me hubiera dejado caer por aquel curso concreto en la universidad, el Mac jamás habría tenido múltiples tipografías, ni caracteres con espaciado proporcional. Y como Windows no hizo más que copiar el Mac, es probable que ningún ordenador personal los tuviera ahora. Si nunca hubiera decidido dejarlo, no habría entrado en esa clase de caligrafía y los ordenadores personales no tendrían la maravillosa tipografía que poseen."
      ]
     },
     "execution_count": 29,
     "metadata": {},
     "output_type": "execute_result"
    }
   ],
   "source": [
    "texto = open(\"discurso.txt\")\n",
    "texto = texto.read()\n",
    "documento = nlp(texto)\n",
    "documento"
   ]
  },
  {
   "cell_type": "code",
   "execution_count": 52,
   "id": "b5eef726-b3be-43b6-886f-e5d37ba4a1db",
   "metadata": {
    "ExecuteTime": {
     "end_time": "2024-04-17T01:38:27.106167Z",
     "start_time": "2024-04-17T01:38:27.101532Z"
    }
   },
   "outputs": [
    {
     "name": "stdout",
     "output_type": "stream",
     "text": [
      "Como ya no estaba matriculado y no tenía clases obligatorias, decidí atender al curso de caligrafía para aprender cómo se hacía.\n",
      "Hay 128 elementos en la oracion\n",
      "\n",
      "Aprendí cosas sobre el serif y tipografías sans serif, sobre los espacios variables entre letras, sobre qué hace realmente grande a una gran tipografía.\n",
      "Hay 152 elementos en la oracion\n",
      "\n",
      "Era sutilmente bello, histórica y artísticamente, de una forma que la ciencia no puede capturar, y lo encontré fascinante.\n",
      "Hay 122 elementos en la oracion\n",
      "\n",
      "Nada de esto tenía ni la más mínima esperanza de aplicación práctica en mi vida.\n",
      "Hay 80 elementos en la oracion\n",
      "\n",
      "Pero diez años más tarde, cuando estábamos diseñando el primer ordenador Macintosh, todo eso volvió a mí.\n",
      "Hay 105 elementos en la oracion\n",
      "\n",
      "Y diseñamos el Mac con eso en su esencia.\n",
      "Hay 41 elementos en la oracion\n",
      "\n",
      "Fue el primer ordenador con tipografías bellas.\n",
      "Hay 47 elementos en la oracion\n",
      "\n",
      "Si nunca me hubiera dejado caer por aquel curso concreto en la universidad, el Mac jamás habría tenido múltiples tipografías, ni caracteres con espaciado proporcional.\n",
      "Hay 167 elementos en la oracion\n",
      "\n",
      "Y como Windows no hizo más que copiar el Mac, es probable que ningún ordenador personal los tuviera ahora.\n",
      "Hay 106 elementos en la oracion\n",
      "\n",
      "Si nunca hubiera decidido dejarlo, no habría entrado en esa clase de caligrafía y los ordenadores personales no tendrían la maravillosa tipografía que poseen.\n",
      "\n",
      "Hay 159 elementos en la oracion\n",
      "\n"
     ]
    }
   ],
   "source": [
    "# proceso para determinar las oraciones\n",
    "for l in documento.sents:\n",
    "    print(l)\n",
    "    print(\"Hay\",len(str(l)) ,\"elementos en la oracion\\n\")"
   ]
  },
  {
   "cell_type": "code",
   "execution_count": 43,
   "id": "c8f7fdcf-cb42-4ef9-9363-ab8f42f3d2ad",
   "metadata": {
    "ExecuteTime": {
     "end_time": "2024-04-17T01:38:28.140840Z",
     "start_time": "2024-04-17T01:38:28.134741Z"
    }
   },
   "outputs": [
    {
     "name": "stdout",
     "output_type": "stream",
     "text": [
      "Aprendí LOC\n",
      "tipografías sans serif PER\n",
      "qué MISC\n",
      "Era sutilmente bello MISC\n",
      "Nada de esto tenía MISC\n",
      "Macintosh MISC\n",
      "Mac MISC\n",
      "Si nunca me hubiera dejado caer MISC\n",
      "Mac MISC\n",
      "Windows MISC\n",
      "Mac MISC\n",
      "Si nunca hubiera decidido dejarlo MISC\n",
      "4\n"
     ]
    }
   ],
   "source": [
    "# proceso para obtener las entidades de un texto\n",
    "for l in documento.ents:\n",
    "    print(l.text, l.label_)\n",
    "    c = len(l.label_)\n",
    "print(c)"
   ]
  },
  {
   "cell_type": "raw",
   "id": "ea9db265-3313-447b-a185-104ffde67a52",
   "metadata": {},
   "source": []
  }
 ],
 "metadata": {
  "kernelspec": {
   "display_name": "Python 3 (ipykernel)",
   "language": "python",
   "name": "python3"
  },
  "language_info": {
   "codemirror_mode": {
    "name": "ipython",
    "version": 3
   },
   "file_extension": ".py",
   "mimetype": "text/x-python",
   "name": "python",
   "nbconvert_exporter": "python",
   "pygments_lexer": "ipython3",
   "version": "3.11.4"
  }
 },
 "nbformat": 4,
 "nbformat_minor": 5
}
